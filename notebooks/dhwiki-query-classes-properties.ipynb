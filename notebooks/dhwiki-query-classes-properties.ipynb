{
 "cells": [
  {
   "cell_type": "markdown",
   "id": "8fd2e77e-cb10-4805-8bb5-6a72e8555e82",
   "metadata": {},
   "source": [
    "<img src=\"../images/DHWiki_banner.png\" width=\"30%\">\n",
    "\n",
    "This is an example of reuse of the [DHwiki Wikibase](https://dhwiki.wikibase.cloud/wiki/Main_Page), hosted on [Wikibase Cloud](https://wikibase.cloud/), includes a Wikibase instance, and is maintained since September 2024 by the [DARIAH-EU WG DHwiki](https://www.dariah.eu/activities/working-groups/dhwiki/), in the framework of the [DARIAH ERIC](https://www.dariah.eu/). "
   ]
  },
  {
   "cell_type": "markdown",
   "id": "bd53e260-452b-4c62-9c0a-234f97c65755",
   "metadata": {},
   "source": [
    "First of all, we include all the python packages that are required to run this example. We will use the SPARQL endpoint to query the data and retrieve the classes and instances on this Wikibase."
   ]
  },
  {
   "cell_type": "code",
   "execution_count": 1,
   "id": "66c0f558-0785-41ad-846b-08447a2c6f5a",
   "metadata": {},
   "outputs": [],
   "source": [
    "from SPARQLWrapper import SPARQLWrapper, JSON, RDFXML, POST\n",
    "\n",
    "sparql = SPARQLWrapper(\n",
    "    \"https://dhwiki.wikibase.cloud/query/sparql\"\n",
    ")\n",
    "sparql.setReturnFormat(RDFXML)\n",
    "sparql.setMethod(POST)\n",
    "sparql.setReturnFormat(JSON)"
   ]
  },
  {
   "cell_type": "markdown",
   "id": "c881bb09-4d19-4623-bfeb-72cbb24bb33f",
   "metadata": {},
   "source": [
    "Now, we define the SPARQL query. This example is available in the [DHwiki Wikibase as an example](https://dhwiki.wikibase.cloud/wiki/Main_Page)."
   ]
  },
  {
   "cell_type": "code",
   "execution_count": 2,
   "id": "9a8e043e-8907-4d9d-b4b2-dcd8d125cfaa",
   "metadata": {},
   "outputs": [],
   "source": [
    "sparql.setQuery(\"\"\"\n",
    "PREFIX dhwb: <https://dhwiki.wikibase.cloud/entity/>\n",
    "PREFIX dhdp: <https://dhwiki.wikibase.cloud/prop/direct/>\n",
    "\n",
    "select ?class ?classLabel (count(?wikibase_item) as ?how_many_instances) \n",
    "       \n",
    "where { \n",
    "  ?class dhdp:P5 dhwb:Q1.\n",
    "  ?wikibase_item dhdp:P5 ?class.\n",
    "  SERVICE wikibase:label { bd:serviceParam wikibase:language \"[AUTO_LANGUAGE],en\". }\n",
    "} group by ?class ?classLabel ?how_many_instances order by desc(?how_many_instances)\n",
    "\"\"\"\n",
    ")"
   ]
  },
  {
   "cell_type": "markdown",
   "id": "b1d38ff5-a25d-49ad-a09a-dd9913daca81",
   "metadata": {},
   "source": [
    "Finally, we can retrieve the triples as JSON using the following code:"
   ]
  },
  {
   "cell_type": "code",
   "execution_count": 3,
   "id": "a49ec049-7261-4042-aa90-16539c6ad4ad",
   "metadata": {},
   "outputs": [
    {
     "name": "stdout",
     "output_type": "stream",
     "text": [
      "{'head': {'vars': ['class', 'classLabel', 'how_many_instances']}, 'results': {'bindings': [{'class': {'type': 'uri', 'value': 'https://dhwiki.wikibase.cloud/entity/Q5'}, 'classLabel': {'xml:lang': 'en', 'type': 'literal', 'value': 'human'}, 'how_many_instances': {'datatype': 'http://www.w3.org/2001/XMLSchema#integer', 'type': 'literal', 'value': '213'}}, {'class': {'type': 'uri', 'value': 'https://dhwiki.wikibase.cloud/entity/Q2'}, 'classLabel': {'xml:lang': 'en', 'type': 'literal', 'value': 'bibliographical record'}, 'how_many_instances': {'datatype': 'http://www.w3.org/2001/XMLSchema#integer', 'type': 'literal', 'value': '159'}}, {'class': {'type': 'uri', 'value': 'https://dhwiki.wikibase.cloud/entity/Q6'}, 'classLabel': {'xml:lang': 'en', 'type': 'literal', 'value': 'bibliographical item type'}, 'how_many_instances': {'datatype': 'http://www.w3.org/2001/XMLSchema#integer', 'type': 'literal', 'value': '10'}}, {'class': {'type': 'uri', 'value': 'https://dhwiki.wikibase.cloud/entity/Q7'}, 'classLabel': {'xml:lang': 'en', 'type': 'literal', 'value': 'language'}, 'how_many_instances': {'datatype': 'http://www.w3.org/2001/XMLSchema#integer', 'type': 'literal', 'value': '6'}}, {'class': {'type': 'uri', 'value': 'https://dhwiki.wikibase.cloud/entity/Q9'}, 'classLabel': {'xml:lang': 'en', 'type': 'literal', 'value': 'creator role'}, 'how_many_instances': {'datatype': 'http://www.w3.org/2001/XMLSchema#integer', 'type': 'literal', 'value': '2'}}]}}\n",
      "{'class': {'type': 'uri', 'value': 'https://dhwiki.wikibase.cloud/entity/Q5'}, 'classLabel': {'xml:lang': 'en', 'type': 'literal', 'value': 'human'}, 'how_many_instances': {'datatype': 'http://www.w3.org/2001/XMLSchema#integer', 'type': 'literal', 'value': '213'}}\n",
      "{'class': {'type': 'uri', 'value': 'https://dhwiki.wikibase.cloud/entity/Q2'}, 'classLabel': {'xml:lang': 'en', 'type': 'literal', 'value': 'bibliographical record'}, 'how_many_instances': {'datatype': 'http://www.w3.org/2001/XMLSchema#integer', 'type': 'literal', 'value': '159'}}\n",
      "{'class': {'type': 'uri', 'value': 'https://dhwiki.wikibase.cloud/entity/Q6'}, 'classLabel': {'xml:lang': 'en', 'type': 'literal', 'value': 'bibliographical item type'}, 'how_many_instances': {'datatype': 'http://www.w3.org/2001/XMLSchema#integer', 'type': 'literal', 'value': '10'}}\n",
      "{'class': {'type': 'uri', 'value': 'https://dhwiki.wikibase.cloud/entity/Q7'}, 'classLabel': {'xml:lang': 'en', 'type': 'literal', 'value': 'language'}, 'how_many_instances': {'datatype': 'http://www.w3.org/2001/XMLSchema#integer', 'type': 'literal', 'value': '6'}}\n",
      "{'class': {'type': 'uri', 'value': 'https://dhwiki.wikibase.cloud/entity/Q9'}, 'classLabel': {'xml:lang': 'en', 'type': 'literal', 'value': 'creator role'}, 'how_many_instances': {'datatype': 'http://www.w3.org/2001/XMLSchema#integer', 'type': 'literal', 'value': '2'}}\n"
     ]
    }
   ],
   "source": [
    "try:\n",
    "    ret = sparql.queryAndConvert()\n",
    "    print(ret)\n",
    "    for r in ret[\"results\"][\"bindings\"]:\n",
    "        print(r)\n",
    "except Exception as e:\n",
    "    print(e)"
   ]
  },
  {
   "cell_type": "code",
   "execution_count": null,
   "id": "fc3ff868-0a7f-464a-8291-518e413f7a43",
   "metadata": {},
   "outputs": [],
   "source": []
  }
 ],
 "metadata": {
  "kernelspec": {
   "display_name": "Python [conda env:base] *",
   "language": "python",
   "name": "conda-base-py"
  },
  "language_info": {
   "codemirror_mode": {
    "name": "ipython",
    "version": 3
   },
   "file_extension": ".py",
   "mimetype": "text/x-python",
   "name": "python",
   "nbconvert_exporter": "python",
   "pygments_lexer": "ipython3",
   "version": "3.11.11"
  }
 },
 "nbformat": 4,
 "nbformat_minor": 5
}
