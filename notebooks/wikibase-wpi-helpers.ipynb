{
 "cells": [
  {
   "cell_type": "markdown",
   "id": "8fd2e77e-cb10-4805-8bb5-6a72e8555e82",
   "metadata": {},
   "source": [
    "<img src=\"../images/DHWiki_banner.png\" width=\"30%\">\n",
    "\n",
    "This is an example of reuse of the [DHwiki Wikibase](https://dhwiki.wikibase.cloud/wiki/Main_Page), hosted on [Wikibase Cloud](https://wikibase.cloud/), includes a Wikibase instance, and is maintained since September 2024 by the [DARIAH-EU WG DHwiki](https://www.dariah.eu/activities/working-groups/dhwiki/), in the framework of the [DARIAH ERIC](https://www.dariah.eu/). "
   ]
  },
  {
   "cell_type": "markdown",
   "id": "bd53e260-452b-4c62-9c0a-234f97c65755",
   "metadata": {},
   "source": [
    "First of all, we include all the python packages that are required to run this example. We will create a new item in our wikibase. For this example, we have created a test Wikibase instance (https://dh2025.wikibase.cloud) to query the content."
   ]
  },
  {
   "cell_type": "markdown",
   "id": "42e00898-b83e-41ea-a77a-e7f9d463f7c7",
   "metadata": {},
   "source": [
    "### Loading the python packages"
   ]
  },
  {
   "cell_type": "code",
   "execution_count": 32,
   "id": "66c0f558-0785-41ad-846b-08447a2c6f5a",
   "metadata": {},
   "outputs": [],
   "source": [
    "from wikibaseintegrator.wbi_helpers import get_user_agent, search_entities"
   ]
  },
  {
   "cell_type": "markdown",
   "id": "f5a80215-9bbb-40ae-b13b-7e2a53970a98",
   "metadata": {},
   "source": [
    "### Set user and password\n",
    "\n",
    "**Note that you need to add your user and password of your Wikibase instance**"
   ]
  },
  {
   "cell_type": "code",
   "execution_count": 35,
   "id": "8e284295-8081-46e5-a3a0-d326da35a3f5",
   "metadata": {},
   "outputs": [],
   "source": [
    "WDUSER = ''\n",
    "WDPASS = ''"
   ]
  },
  {
   "cell_type": "markdown",
   "id": "67741a7b-8b6a-4b12-9957-c5fce79d9d1e",
   "metadata": {},
   "source": [
    "### Set variables"
   ]
  },
  {
   "cell_type": "code",
   "execution_count": 36,
   "id": "9a8e043e-8907-4d9d-b4b2-dcd8d125cfaa",
   "metadata": {},
   "outputs": [
    {
     "name": "stderr",
     "output_type": "stream",
     "text": [
      "MediaWiki login warnings messages:\n",
      "* main: Subscribe to the mediawiki-api-announce mailing list at <https://lists.wikimedia.org/postorius/lists/mediawiki-api-announce.lists.wikimedia.org/> for notice of API deprecations and breaking changes.\n",
      "* login: Main-account login via \"action=login\" is deprecated and may stop working without warning. To continue login with \"action=login\", see [[Special:BotPasswords]]. To safely continue using main-account login, see \"action=clientlogin\".\n"
     ]
    },
    {
     "name": "stdout",
     "output_type": "stream",
     "text": [
      "**** Wikibase bot username and password accepted, bot is being loaded. ****\n"
     ]
    }
   ],
   "source": [
    "# this block is always the same\n",
    "wbi_config['BACKOFF_MAX_TRIES'] = 5\n",
    "wbi_config['BACKOFF_MAX_VALUE'] = 3600\n",
    "wbi_config['USER_AGENT'] = \"bot based on wikibaseintegrator\"\n",
    "wbi_config['PROPERTY_CONSTRAINT_PID'] = None # 'P2302'\n",
    "wbi_config['DISTINCT_VALUES_CONSTRAINT_QID'] = None # 'Q21502410'\n",
    "wbi_config['COORDINATE_GLOBE_QID'] = 'http://www.wikidata.org/entity/Q2'\n",
    "wbi_config['CALENDAR_MODEL_QID'] = 'http://www.wikidata.org/entity/Q1985727'\n",
    "\n",
    "#this block depends on your wikibase\n",
    "wbi_config['MEDIAWIKI_API_URL'] = 'examp/w/api.php'\n",
    "wbi_config['MEDIAWIKI_INDEX_URL'] = \"https://dh2025.wikibase.cloud/w/index.php\"\n",
    "wbi_config['MEDIAWIKI_REST_URL'] = \"https://dh2025.wikibase.cloud/w/rest.php\"\n",
    "wbi_config['SPARQL_ENDPOINT_URL'] = \"https://dh2025.wikibase.cloud/query/sparql\"\n",
    "wbi_config['WIKIBASE_URL'] = \"https://dh2025.wikibase.cloud\"\n",
    "wbi_config['DEFAULT_LANGUAGE'] = 'en'\n",
    "wbi_config['DEFAULT_LEXEME_LANGUAGE'] = \"Q1\" # This is for Lexemes. Value None raises error.\n",
    "\n",
    "login = wbi_login.Login(user=WDUSER, password=WDPASS)\n",
    "bot = WikibaseIntegrator(login=login)\n",
    "print('**** Wikibase bot username and password accepted, bot is being loaded. ****')"
   ]
  },
  {
   "cell_type": "markdown",
   "id": "053b7135-a01a-40e9-92db-bce08ef3b0ba",
   "metadata": {},
   "source": [
    "**Description of the function**\n",
    "\n",
    "Please, read the following [documentation](https://wikibaseintegrator.readthedocs.io/_/downloads/en/latest/pdf) about the function.\n",
    "\n",
    "wikibaseintegrator.wbi_helpers.search_entities(search_string, language=None, strict_language=False,\n",
    "search_type='item', max_results=50, dict_result=False, allow_anonymous=True, **kwargs)\n",
    "\n",
    "Performs a search for entities in the Wikibase instance using labels and aliases. You can have more information on the parameters in the MediaWiki API help (https://www.wikidata.org/w/api.php?action=help&modules=wbsearchentities)\n",
    "\n",
    "**Parameters**\n",
    "- search_string (str) – A string which should be searched for in the Wikibase instance (labels and aliases)\n",
    "- language (str | None) – The language in which to perform the search. This only affects how entities are selected. Default is ‘en’ from wbi_config. You can see the list of languages for Wikidata at https://www.wikidata.org/wiki/Help:Wikimedia_language_codes/lists/all (Use\n",
    "the WMF code)\n",
    "- strict_language (bool) – Whether to disable language fallback. Default is ‘False’.\n",
    "- search_type (str) – Search for this type of entity. One of the following values: form, item,lexeme, property, sense, mediainfo\n",
    "- max_results (int) – The maximum number of search results returned. The value must be between 0 and 50. Default is 50\n",
    "- dict_result (bool) – Return the results as a detailed dictionary instead of a list of IDs.\n",
    "- allow_anonymous (bool) – Allow anonymous interaction with the MediaWiki API. ‘True’ by default.\n",
    "- kwargs (Any)\n",
    "Return type\n",
    "  list[dict[str, Any]]"
   ]
  },
  {
   "cell_type": "markdown",
   "id": "e83eb33d-2b94-4db5-89fb-6e5fc7e3b67f",
   "metadata": {},
   "source": [
    "### Search for \"example\" properties and return the result as a dictionary\n",
    "\n",
    "The method wbi_helpers.search_entities() allows for string search in a Wikibase instance. This means that labels, descriptions and aliases can be searched for a string of interest. The method takes five arguments: The actual search string (search_string), an optional server (mediawiki_api_url, in case the Wikibase instance used is not Wikidata), an optional user_agent, an optional max_results (default 500), an optional language (default 'en'), and an option dict_id_label to return a dict of item id and label as a result."
   ]
  },
  {
   "cell_type": "code",
   "execution_count": 50,
   "id": "597ea70e-37de-47d7-bbab-6fcd5d18be24",
   "metadata": {},
   "outputs": [
    {
     "data": {
      "text/plain": [
       "[{'id': 'P1',\n",
       "  'label': 'Example property',\n",
       "  'match': {'type': 'label', 'language': 'en', 'text': 'Example property'},\n",
       "  'description': 'P1 example property',\n",
       "  'aliases': None},\n",
       " {'id': 'P2',\n",
       "  'label': 'example property',\n",
       "  'match': {'type': 'label', 'language': 'en', 'text': 'example property'},\n",
       "  'description': 'P2 example property',\n",
       "  'aliases': None}]"
      ]
     },
     "execution_count": 50,
     "metadata": {},
     "output_type": "execute_result"
    }
   ],
   "source": [
    "search_entities(search_string=\"example\", max_results=50, search_type='property', language=None, allow_anonymous=True, strict_language=False, dict_result=True)"
   ]
  },
  {
   "cell_type": "code",
   "execution_count": 51,
   "id": "a72bdc6e-17b6-4b81-a9df-ef41e598557f",
   "metadata": {},
   "outputs": [
    {
     "data": {
      "text/plain": [
       "[{'id': 'Q8',\n",
       "  'label': 'New item 2',\n",
       "  'match': {'type': 'alias', 'language': 'en', 'text': 'Item'},\n",
       "  'description': 'A freshly created element',\n",
       "  'aliases': ['Item']},\n",
       " {'id': 'Q5',\n",
       "  'label': 'New item',\n",
       "  'match': {'type': 'alias', 'language': 'en', 'text': 'Item'},\n",
       "  'description': 'A freshly created element',\n",
       "  'aliases': ['Item']}]"
      ]
     },
     "execution_count": 51,
     "metadata": {},
     "output_type": "execute_result"
    }
   ],
   "source": [
    "search_entities(search_string=\"item\", max_results=50, search_type='item', language=None, allow_anonymous=True, strict_language=False, dict_result=True)"
   ]
  },
  {
   "cell_type": "markdown",
   "id": "b61eb0fd-9773-41fd-98f8-f4a553decf85",
   "metadata": {},
   "source": [
    "# References\n",
    "- https://github.com/LeMyst/WikibaseIntegrator/\n",
    "- https://wikibaseintegrator.readthedocs.io/_/downloads/en/latest/pdf/"
   ]
  }
 ],
 "metadata": {
  "kernelspec": {
   "display_name": "Python [conda env:base] *",
   "language": "python",
   "name": "conda-base-py"
  },
  "language_info": {
   "codemirror_mode": {
    "name": "ipython",
    "version": 3
   },
   "file_extension": ".py",
   "mimetype": "text/x-python",
   "name": "python",
   "nbconvert_exporter": "python",
   "pygments_lexer": "ipython3",
   "version": "3.11.11"
  }
 },
 "nbformat": 4,
 "nbformat_minor": 5
}
