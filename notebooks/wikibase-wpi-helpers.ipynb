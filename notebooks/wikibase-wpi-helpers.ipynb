{
 "cells": [
  {
   "cell_type": "markdown",
   "id": "8fd2e77e-cb10-4805-8bb5-6a72e8555e82",
   "metadata": {},
   "source": [
    "<img src=\"../images/DHWiki_banner.png\" width=\"30%\">\n",
    "\n",
    "This is an example of reuse of the [DHwiki Wikibase](https://dhwiki.wikibase.cloud/wiki/Main_Page), hosted on [Wikibase Cloud](https://wikibase.cloud/), includes a Wikibase instance, and is maintained since September 2024 by the [DARIAH-EU WG DHwiki](https://www.dariah.eu/activities/working-groups/dhwiki/), in the framework of the [DARIAH ERIC](https://www.dariah.eu/). "
   ]
  },
  {
   "cell_type": "markdown",
   "id": "bd53e260-452b-4c62-9c0a-234f97c65755",
   "metadata": {},
   "source": [
    "First of all, we include all the python packages that are required to run this example. We will create a new item in our wikibase. For this example, we have created a test Wikibase instance (https://dh2025.wikibase.cloud) to update the content."
   ]
  },
  {
   "cell_type": "markdown",
   "id": "42e00898-b83e-41ea-a77a-e7f9d463f7c7",
   "metadata": {},
   "source": [
    "### Loading the python packages"
   ]
  },
  {
   "cell_type": "code",
   "execution_count": 23,
   "id": "66c0f558-0785-41ad-846b-08447a2c6f5a",
   "metadata": {},
   "outputs": [],
   "source": [
    "from wikibaseintegrator.wbi_helpers import get_user_agent, search_entities"
   ]
  },
  {
   "cell_type": "markdown",
   "id": "67741a7b-8b6a-4b12-9957-c5fce79d9d1e",
   "metadata": {},
   "source": [
    "### Set variables"
   ]
  },
  {
   "cell_type": "code",
   "execution_count": 24,
   "id": "9a8e043e-8907-4d9d-b4b2-dcd8d125cfaa",
   "metadata": {},
   "outputs": [],
   "source": [
    "#this block depends on your wikibase\n",
    "wbi_config['MEDIAWIKI_API_URL'] = 'https://dhwiki.wikibase.cloud/w/api.php'"
   ]
  },
  {
   "cell_type": "markdown",
   "id": "e83eb33d-2b94-4db5-89fb-6e5fc7e3b67f",
   "metadata": {},
   "source": [
    "### Search for \"Villeurbanne\" and return the result as a dictionary\n",
    "\n",
    "The method wbi_helpers.search_entities() allows for string search in a Wikibase instance. This means that labels, descriptions and aliases can be searched for a string of interest. The method takes five arguments: The actual search string (search_string), an optional server (mediawiki_api_url, in case the Wikibase instance used is not Wikidata), an optional user_agent, an optional max_results (default 500), an optional language (default 'en'), and an option dict_id_label to return a dict of item id and label as a result."
   ]
  },
  {
   "cell_type": "code",
   "execution_count": 25,
   "id": "597ea70e-37de-47d7-bbab-6fcd5d18be24",
   "metadata": {},
   "outputs": [
    {
     "data": {
      "text/plain": [
       "[]"
      ]
     },
     "execution_count": 25,
     "metadata": {},
     "output_type": "execute_result"
    }
   ],
   "source": [
    "search_entities(search_string=\"wikimedista\", language='es', strict_language=True, dict_result=True, user_agent=get_user_agent(), mediawiki_api_url=wbi_config['MEDIAWIKI_API_URL'])"
   ]
  },
  {
   "cell_type": "markdown",
   "id": "b61eb0fd-9773-41fd-98f8-f4a553decf85",
   "metadata": {},
   "source": [
    "# References\n",
    "- https://github.com/LeMyst/WikibaseIntegrator/"
   ]
  }
 ],
 "metadata": {
  "kernelspec": {
   "display_name": "Python [conda env:base] *",
   "language": "python",
   "name": "conda-base-py"
  },
  "language_info": {
   "codemirror_mode": {
    "name": "ipython",
    "version": 3
   },
   "file_extension": ".py",
   "mimetype": "text/x-python",
   "name": "python",
   "nbconvert_exporter": "python",
   "pygments_lexer": "ipython3",
   "version": "3.11.11"
  }
 },
 "nbformat": 4,
 "nbformat_minor": 5
}
